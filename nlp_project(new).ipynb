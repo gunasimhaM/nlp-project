{
  "nbformat": 4,
  "nbformat_minor": 0,
  "metadata": {
    "colab": {
      "provenance": []
    },
    "kernelspec": {
      "name": "python3",
      "display_name": "Python 3"
    },
    "language_info": {
      "name": "python"
    }
  },
  "cells": [
    {
      "cell_type": "code",
      "source": [
        "!pip install profanity-check\n",
        "!pip install nltk\n",
        "!pip install numpy\n",
        "!pip install transformers\n",
        "!pip install conceptnet\n",
        "!pip install better_profanity\n",
        "!pip install nrclex\n"
      ],
      "metadata": {
        "id": "AGj--2jABlH7"
      },
      "execution_count": null,
      "outputs": []
    },
    {
      "cell_type": "code",
      "source": [
        "from conceptnet5.uri import join_uri, split_uri\n",
        "import requests\n",
        "\n",
        "# Example query\n",
        "concept_uri = '/c/en/hi'\n",
        "api_url = f'http://api.conceptnet.io{concept_uri}'\n",
        "\n",
        "# Send HTTP GET request to ConceptNet API\n",
        "response = requests.get(api_url)\n",
        "\n",
        "# Process the response\n",
        "if response.status_code == 200:\n",
        "    data = response.json()\n",
        "    print(data)\n",
        "else:\n",
        "    print(f'Error: Failed to fetch data. Status code: {response.status_code}')\n"
      ],
      "metadata": {
        "colab": {
          "base_uri": "https://localhost:8080/"
        },
        "id": "wTQJr8QPNQ_4",
        "outputId": "656c6c26-e347-4743-c54a-dd171844bed2"
      },
      "execution_count": 20,
      "outputs": [
        {
          "output_type": "stream",
          "name": "stdout",
          "text": [
            "{'@context': ['http://api.conceptnet.io/ld/conceptnet5.7/context.ld.json'], '@id': '/c/en/hi', 'edges': [{'@id': '/a/[/r/Synonym/,/c/ja/ホームインプルーブメント/n/,/c/en/hi/]', '@type': 'Edge', 'dataset': '/d/jmdict', 'end': {'@id': '/c/en/hi', '@type': 'Node', 'label': 'hi', 'language': 'en', 'term': '/c/en/hi'}, 'license': 'cc:by-sa/4.0', 'rel': {'@id': '/r/Synonym', '@type': 'Relation', 'label': 'Synonym'}, 'sources': [{'@id': '/s/resource/jmdict/1.07', '@type': 'Source', 'contributor': '/s/resource/jmdict/1.07'}], 'start': {'@id': '/c/ja/ホームインプルーブメント/n', '@type': 'Node', 'label': 'ホームインプルーブメント', 'language': 'ja', 'sense_label': 'n', 'term': '/c/ja/ホームインプルーブメント'}, 'surfaceText': None, 'weight': 2.0}, {'@id': '/a/[/r/Synonym/,/c/en/hi/,/c/sh/bok/]', '@type': 'Edge', 'dataset': '/d/wiktionary/en', 'end': {'@id': '/c/sh/bok', '@type': 'Node', 'label': 'bok', 'language': 'sh', 'term': '/c/sh/bok'}, 'license': 'cc:by-sa/4.0', 'rel': {'@id': '/r/Synonym', '@type': 'Relation', 'label': 'Synonym'}, 'sources': [{'@id': '/and/[/s/process/wikiparsec/2/,/s/resource/wiktionary/en/]', '@type': 'Source', 'contributor': '/s/resource/wiktionary/en', 'process': '/s/process/wikiparsec/2'}], 'start': {'@id': '/c/en/hi', '@type': 'Node', 'label': 'hi', 'language': 'en', 'term': '/c/en/hi'}, 'surfaceText': None, 'weight': 2.0}, {'@id': '/a/[/r/Synonym/,/c/en/hi/,/c/fr/salut/]', '@type': 'Edge', 'dataset': '/d/wiktionary/de', 'end': {'@id': '/c/fr/salut', '@type': 'Node', 'label': 'salut', 'language': 'fr', 'term': '/c/fr/salut'}, 'license': 'cc:by-sa/4.0', 'rel': {'@id': '/r/Synonym', '@type': 'Relation', 'label': 'Synonym'}, 'sources': [{'@id': '/and/[/s/process/wikiparsec/2/,/s/resource/wiktionary/de/]', '@type': 'Source', 'contributor': '/s/resource/wiktionary/de', 'process': '/s/process/wikiparsec/2'}, {'@id': '/and/[/s/process/wikiparsec/2/,/s/resource/wiktionary/en/]', '@type': 'Source', 'contributor': '/s/resource/wiktionary/en', 'process': '/s/process/wikiparsec/2'}], 'start': {'@id': '/c/en/hi', '@type': 'Node', 'label': 'hi', 'language': 'en', 'term': '/c/en/hi'}, 'surfaceText': None, 'weight': 2.0}, {'@id': '/a/[/r/Synonym/,/c/ja/ういっす/,/c/en/hi/]', '@type': 'Edge', 'dataset': '/d/jmdict', 'end': {'@id': '/c/en/hi', '@type': 'Node', 'label': 'hi', 'language': 'en', 'term': '/c/en/hi'}, 'license': 'cc:by-sa/4.0', 'rel': {'@id': '/r/Synonym', '@type': 'Relation', 'label': 'Synonym'}, 'sources': [{'@id': '/s/resource/jmdict/1.07', '@type': 'Source', 'contributor': '/s/resource/jmdict/1.07'}], 'start': {'@id': '/c/ja/ういっす', '@type': 'Node', 'label': 'ういっす', 'language': 'ja', 'term': '/c/ja/ういっす'}, 'surfaceText': None, 'weight': 2.0}, {'@id': '/a/[/r/Synonym/,/c/en/hi/,/c/it/ciao/]', '@type': 'Edge', 'dataset': '/d/wiktionary/de', 'end': {'@id': '/c/it/ciao', '@type': 'Node', 'label': 'ciao', 'language': 'it', 'term': '/c/it/ciao'}, 'license': 'cc:by-sa/4.0', 'rel': {'@id': '/r/Synonym', '@type': 'Relation', 'label': 'Synonym'}, 'sources': [{'@id': '/and/[/s/process/wikiparsec/2/,/s/resource/wiktionary/de/]', '@type': 'Source', 'contributor': '/s/resource/wiktionary/de', 'process': '/s/process/wikiparsec/2'}, {'@id': '/and/[/s/process/wikiparsec/2/,/s/resource/wiktionary/en/]', '@type': 'Source', 'contributor': '/s/resource/wiktionary/en', 'process': '/s/process/wikiparsec/2'}], 'start': {'@id': '/c/en/hi', '@type': 'Node', 'label': 'hi', 'language': 'en', 'term': '/c/en/hi'}, 'surfaceText': None, 'weight': 2.0}, {'@id': '/a/[/r/Synonym/,/c/en/hi/,/c/pl/cześć/]', '@type': 'Edge', 'dataset': '/d/wiktionary/de', 'end': {'@id': '/c/pl/cześć', '@type': 'Node', 'label': 'cześć', 'language': 'pl', 'term': '/c/pl/cześć'}, 'license': 'cc:by-sa/4.0', 'rel': {'@id': '/r/Synonym', '@type': 'Relation', 'label': 'Synonym'}, 'sources': [{'@id': '/and/[/s/process/wikiparsec/2/,/s/resource/wiktionary/de/]', '@type': 'Source', 'contributor': '/s/resource/wiktionary/de', 'process': '/s/process/wikiparsec/2'}, {'@id': '/and/[/s/process/wikiparsec/2/,/s/resource/wiktionary/en/]', '@type': 'Source', 'contributor': '/s/resource/wiktionary/en', 'process': '/s/process/wikiparsec/2'}], 'start': {'@id': '/c/en/hi', '@type': 'Node', 'label': 'hi', 'language': 'en', 'term': '/c/en/hi'}, 'surfaceText': None, 'weight': 2.0}, {'@id': '/a/[/r/Synonym/,/c/ja/おはよっす/,/c/en/hi/]', '@type': 'Edge', 'dataset': '/d/jmdict', 'end': {'@id': '/c/en/hi', '@type': 'Node', 'label': 'hi', 'language': 'en', 'term': '/c/en/hi'}, 'license': 'cc:by-sa/4.0', 'rel': {'@id': '/r/Synonym', '@type': 'Relation', 'label': 'Synonym'}, 'sources': [{'@id': '/s/resource/jmdict/1.07', '@type': 'Source', 'contributor': '/s/resource/jmdict/1.07'}], 'start': {'@id': '/c/ja/おはよっす', '@type': 'Node', 'label': 'おはよっす', 'language': 'ja', 'term': '/c/ja/おはよっす'}, 'surfaceText': None, 'weight': 2.0}, {'@id': '/a/[/r/Synonym/,/c/ja/押忍/,/c/en/hi/]', '@type': 'Edge', 'dataset': '/d/jmdict', 'end': {'@id': '/c/en/hi', '@type': 'Node', 'label': 'hi', 'language': 'en', 'term': '/c/en/hi'}, 'license': 'cc:by-sa/4.0', 'rel': {'@id': '/r/Synonym', '@type': 'Relation', 'label': 'Synonym'}, 'sources': [{'@id': '/s/resource/jmdict/1.07', '@type': 'Source', 'contributor': '/s/resource/jmdict/1.07'}], 'start': {'@id': '/c/ja/押忍', '@type': 'Node', 'label': '押忍', 'language': 'ja', 'term': '/c/ja/押忍'}, 'surfaceText': None, 'weight': 2.0}, {'@id': '/a/[/r/Synonym/,/c/ja/ホーム_インプルーブメント/n/,/c/en/hi/]', '@type': 'Edge', 'dataset': '/d/jmdict', 'end': {'@id': '/c/en/hi', '@type': 'Node', 'label': 'hi', 'language': 'en', 'term': '/c/en/hi'}, 'license': 'cc:by-sa/4.0', 'rel': {'@id': '/r/Synonym', '@type': 'Relation', 'label': 'Synonym'}, 'sources': [{'@id': '/s/resource/jmdict/1.07', '@type': 'Source', 'contributor': '/s/resource/jmdict/1.07'}], 'start': {'@id': '/c/ja/ホーム_インプルーブメント/n', '@type': 'Node', 'label': 'ホーム インプルーブメント', 'language': 'ja', 'sense_label': 'n', 'term': '/c/ja/ホーム_インプルーブメント'}, 'surfaceText': None, 'weight': 2.0}, {'@id': '/a/[/r/Synonym/,/c/ja/おは/,/c/en/hi/]', '@type': 'Edge', 'dataset': '/d/jmdict', 'end': {'@id': '/c/en/hi', '@type': 'Node', 'label': 'hi', 'language': 'en', 'term': '/c/en/hi'}, 'license': 'cc:by-sa/4.0', 'rel': {'@id': '/r/Synonym', '@type': 'Relation', 'label': 'Synonym'}, 'sources': [{'@id': '/s/resource/jmdict/1.07', '@type': 'Source', 'contributor': '/s/resource/jmdict/1.07'}], 'start': {'@id': '/c/ja/おは', '@type': 'Node', 'label': 'おは', 'language': 'ja', 'term': '/c/ja/おは'}, 'surfaceText': None, 'weight': 2.0}, {'@id': '/a/[/r/Synonym/,/c/en/hi/,/c/ca/hola/]', '@type': 'Edge', 'dataset': '/d/wiktionary/de', 'end': {'@id': '/c/ca/hola', '@type': 'Node', 'label': 'hola', 'language': 'ca', 'term': '/c/ca/hola'}, 'license': 'cc:by-sa/4.0', 'rel': {'@id': '/r/Synonym', '@type': 'Relation', 'label': 'Synonym'}, 'sources': [{'@id': '/and/[/s/process/wikiparsec/2/,/s/resource/wiktionary/de/]', '@type': 'Source', 'contributor': '/s/resource/wiktionary/de', 'process': '/s/process/wikiparsec/2'}, {'@id': '/and/[/s/process/wikiparsec/2/,/s/resource/wiktionary/en/]', '@type': 'Source', 'contributor': '/s/resource/wiktionary/en', 'process': '/s/process/wikiparsec/2'}], 'start': {'@id': '/c/en/hi', '@type': 'Node', 'label': 'hi', 'language': 'en', 'term': '/c/en/hi'}, 'surfaceText': None, 'weight': 2.0}, {'@id': '/a/[/r/Synonym/,/c/en/hi/,/c/la/salve/]', '@type': 'Edge', 'dataset': '/d/wiktionary/de', 'end': {'@id': '/c/la/salve', '@type': 'Node', 'label': 'salve', 'language': 'la', 'term': '/c/la/salve'}, 'license': 'cc:by-sa/4.0', 'rel': {'@id': '/r/Synonym', '@type': 'Relation', 'label': 'Synonym'}, 'sources': [{'@id': '/and/[/s/process/wikiparsec/2/,/s/resource/wiktionary/de/]', '@type': 'Source', 'contributor': '/s/resource/wiktionary/de', 'process': '/s/process/wikiparsec/2'}, {'@id': '/and/[/s/process/wikiparsec/2/,/s/resource/wiktionary/en/]', '@type': 'Source', 'contributor': '/s/resource/wiktionary/en', 'process': '/s/process/wikiparsec/2'}], 'start': {'@id': '/c/en/hi', '@type': 'Node', 'label': 'hi', 'language': 'en', 'term': '/c/en/hi'}, 'surfaceText': None, 'weight': 2.0}, {'@id': '/a/[/r/RelatedTo/,/c/sh/poz/,/c/en/hi/]', '@type': 'Edge', 'dataset': '/d/wiktionary/en', 'end': {'@id': '/c/en/hi', '@type': 'Node', 'label': 'hi', 'language': 'en', 'term': '/c/en/hi'}, 'license': 'cc:by-sa/4.0', 'rel': {'@id': '/r/RelatedTo', '@type': 'Relation', 'label': 'RelatedTo'}, 'sources': [{'@id': '/and/[/s/process/wikiparsec/2/,/s/resource/wiktionary/en/]', '@type': 'Source', 'contributor': '/s/resource/wiktionary/en', 'process': '/s/process/wikiparsec/2'}], 'start': {'@id': '/c/sh/poz', '@type': 'Node', 'label': 'poz', 'language': 'sh', 'term': '/c/sh/poz'}, 'surfaceText': None, 'weight': 2.0}, {'@id': '/a/[/r/Synonym/,/c/en/hi/,/c/sh/halo/]', '@type': 'Edge', 'dataset': '/d/wiktionary/en', 'end': {'@id': '/c/sh/halo', '@type': 'Node', 'label': 'halo', 'language': 'sh', 'term': '/c/sh/halo'}, 'license': 'cc:by-sa/4.0', 'rel': {'@id': '/r/Synonym', '@type': 'Relation', 'label': 'Synonym'}, 'sources': [{'@id': '/and/[/s/process/wikiparsec/2/,/s/resource/wiktionary/en/]', '@type': 'Source', 'contributor': '/s/resource/wiktionary/en', 'process': '/s/process/wikiparsec/2'}], 'start': {'@id': '/c/en/hi', '@type': 'Node', 'label': 'hi', 'language': 'en', 'term': '/c/en/hi'}, 'surfaceText': None, 'weight': 2.0}, {'@id': '/a/[/r/Synonym/,/c/en/hi/,/c/la/ave/]', '@type': 'Edge', 'dataset': '/d/wiktionary/de', 'end': {'@id': '/c/la/ave', '@type': 'Node', 'label': 'ave', 'language': 'la', 'term': '/c/la/ave'}, 'license': 'cc:by-sa/4.0', 'rel': {'@id': '/r/Synonym', '@type': 'Relation', 'label': 'Synonym'}, 'sources': [{'@id': '/and/[/s/process/wikiparsec/2/,/s/resource/wiktionary/de/]', '@type': 'Source', 'contributor': '/s/resource/wiktionary/de', 'process': '/s/process/wikiparsec/2'}, {'@id': '/and/[/s/process/wikiparsec/2/,/s/resource/wiktionary/en/]', '@type': 'Source', 'contributor': '/s/resource/wiktionary/en', 'process': '/s/process/wikiparsec/2'}], 'start': {'@id': '/c/en/hi', '@type': 'Node', 'label': 'hi', 'language': 'en', 'term': '/c/en/hi'}, 'surfaceText': None, 'weight': 2.0}, {'@id': '/a/[/r/Synonym/,/c/en/hi/,/c/nl/hallo/]', '@type': 'Edge', 'dataset': '/d/wiktionary/en', 'end': {'@id': '/c/nl/hallo', '@type': 'Node', 'label': 'hallo', 'language': 'nl', 'term': '/c/nl/hallo'}, 'license': 'cc:by-sa/4.0', 'rel': {'@id': '/r/Synonym', '@type': 'Relation', 'label': 'Synonym'}, 'sources': [{'@id': '/and/[/s/process/wikiparsec/2/,/s/resource/wiktionary/en/]', '@type': 'Source', 'contributor': '/s/resource/wiktionary/en', 'process': '/s/process/wikiparsec/2'}, {'@id': '/and/[/s/process/wikiparsec/2/,/s/resource/wiktionary/fr/]', '@type': 'Source', 'contributor': '/s/resource/wiktionary/fr', 'process': '/s/process/wikiparsec/2'}], 'start': {'@id': '/c/en/hi', '@type': 'Node', 'label': 'hi', 'language': 'en', 'term': '/c/en/hi'}, 'surfaceText': None, 'weight': 2.0}, {'@id': '/a/[/r/Synonym/,/c/en/hi/,/c/sh/zdravo/]', '@type': 'Edge', 'dataset': '/d/wiktionary/en', 'end': {'@id': '/c/sh/zdravo', '@type': 'Node', 'label': 'zdravo', 'language': 'sh', 'term': '/c/sh/zdravo'}, 'license': 'cc:by-sa/4.0', 'rel': {'@id': '/r/Synonym', '@type': 'Relation', 'label': 'Synonym'}, 'sources': [{'@id': '/and/[/s/process/wikiparsec/2/,/s/resource/wiktionary/en/]', '@type': 'Source', 'contributor': '/s/resource/wiktionary/en', 'process': '/s/process/wikiparsec/2'}], 'start': {'@id': '/c/en/hi', '@type': 'Node', 'label': 'hi', 'language': 'en', 'term': '/c/en/hi'}, 'surfaceText': None, 'weight': 2.0}, {'@id': '/a/[/r/Synonym/,/c/ja/こんちゃ/,/c/en/hi/]', '@type': 'Edge', 'dataset': '/d/jmdict', 'end': {'@id': '/c/en/hi', '@type': 'Node', 'label': 'hi', 'language': 'en', 'term': '/c/en/hi'}, 'license': 'cc:by-sa/4.0', 'rel': {'@id': '/r/Synonym', '@type': 'Relation', 'label': 'Synonym'}, 'sources': [{'@id': '/s/resource/jmdict/1.07', '@type': 'Source', 'contributor': '/s/resource/jmdict/1.07'}], 'start': {'@id': '/c/ja/こんちゃ', '@type': 'Node', 'label': 'こんちゃ', 'language': 'ja', 'term': '/c/ja/こんちゃ'}, 'surfaceText': None, 'weight': 2.0}, {'@id': '/a/[/r/Synonym/,/c/ja/やほー/,/c/en/hi/]', '@type': 'Edge', 'dataset': '/d/jmdict', 'end': {'@id': '/c/en/hi', '@type': 'Node', 'label': 'hi', 'language': 'en', 'term': '/c/en/hi'}, 'license': 'cc:by-sa/4.0', 'rel': {'@id': '/r/Synonym', '@type': 'Relation', 'label': 'Synonym'}, 'sources': [{'@id': '/s/resource/jmdict/1.07', '@type': 'Source', 'contributor': '/s/resource/jmdict/1.07'}], 'start': {'@id': '/c/ja/やほー', '@type': 'Node', 'label': 'やほー', 'language': 'ja', 'term': '/c/ja/やほー'}, 'surfaceText': None, 'weight': 2.0}, {'@id': '/a/[/r/Synonym/,/c/ja/や/,/c/en/hi/]', '@type': 'Edge', 'dataset': '/d/jmdict', 'end': {'@id': '/c/en/hi', '@type': 'Node', 'label': 'hi', 'language': 'en', 'term': '/c/en/hi'}, 'license': 'cc:by-sa/4.0', 'rel': {'@id': '/r/Synonym', '@type': 'Relation', 'label': 'Synonym'}, 'sources': [{'@id': '/s/resource/jmdict/1.07', '@type': 'Source', 'contributor': '/s/resource/jmdict/1.07'}], 'start': {'@id': '/c/ja/や', '@type': 'Node', 'label': 'や', 'language': 'ja', 'term': '/c/ja/や'}, 'surfaceText': None, 'weight': 2.0}], 'version': '5.8.1', 'view': {'@id': '/c/en/hi?offset=0&limit=20', '@type': 'PartialCollectionView', 'comment': \"There are more results. Follow the 'nextPage' link for more.\", 'firstPage': '/c/en/hi?offset=0&limit=20', 'nextPage': '/c/en/hi?offset=20&limit=20', 'paginatedProperty': 'edges'}}\n"
          ]
        }
      ]
    },
    {
      "cell_type": "code",
      "source": [
        "related_words = set()\n",
        "for edge in data['edges']:\n",
        "            relation=edge['rel']['label']\n",
        "            if relation in ['RelatedTo', 'IsA', 'HasA']:\n",
        "              related_words.add(edge['end']['label'])\n",
        "\n",
        "\n",
        "\n",
        "print(list(related_words))\n"
      ],
      "metadata": {
        "colab": {
          "base_uri": "https://localhost:8080/"
        },
        "id": "coP4nxDsPVRS",
        "outputId": "7eadfd1f-82f8-4cfc-f6c7-a82007a03158"
      },
      "execution_count": 38,
      "outputs": [
        {
          "output_type": "stream",
          "name": "stdout",
          "text": [
            "['hi']\n"
          ]
        }
      ]
    },
    {
      "cell_type": "code",
      "source": [
        "from conceptnet5.uri import join_uri, split_uri\n",
        "import requests\n",
        "\n",
        "def get_related_words(word):\n",
        "  concept_uri='/c/en/'+word\n",
        "  api_url = f'http://api.conceptnet.io{concept_uri}'\n",
        "  relations = ['relatedto','formof','isa','partof','usedfor','capableof','causes','hassubevent','hasfirstsubevent','hasprerequisite','hasproperty','synonym','antonym','distinctfrom','derivedfrom','definedas','hascontext','similarto','etymologicallyrelatedto','receivesaction']\n",
        "\n",
        "\n",
        "  # Send HTTP GET request to ConceptNet API\n",
        "  response = requests.get(api_url)\n",
        "\n",
        "  # Process the response\n",
        "  if response.status_code == 200:\n",
        "    data = response.json()\n",
        "  else:\n",
        "    print(f'Error: Failed to fetch data. Status code: {response.status_code}')\n",
        "    return 0\n",
        "\n",
        "  related_words = set()\n",
        "  for edge in data['edges']:\n",
        "            relation=edge['rel']['label']\n",
        "            if relation.lower() in relations:\n",
        "\n",
        "              related_words.add(edge['end']['label'])\n",
        "\n",
        "  print(list(related_words))\n",
        "\n",
        "get_related_words('life')"
      ],
      "metadata": {
        "colab": {
          "base_uri": "https://localhost:8080/"
        },
        "id": "NLqjHrkhOUVB",
        "outputId": "514e7429-c46b-40db-d59d-f47cfe8769cc"
      },
      "execution_count": 50,
      "outputs": [
        {
          "output_type": "stream",
          "name": "stdout",
          "text": [
            "['finite', 'life', 'living', 'good']\n"
          ]
        }
      ]
    },
    {
      "cell_type": "code",
      "execution_count": 59,
      "metadata": {
        "id": "bkmjgFvqmdOn",
        "colab": {
          "base_uri": "https://localhost:8080/"
        },
        "outputId": "cea533fe-d50f-47a8-de05-dfff23a62202"
      },
      "outputs": [
        {
          "output_type": "stream",
          "name": "stderr",
          "text": [
            "[nltk_data] Downloading package punkt to /root/nltk_data...\n",
            "[nltk_data]   Package punkt is already up-to-date!\n"
          ]
        },
        {
          "output_type": "stream",
          "name": "stdout",
          "text": [
            "Enter a word: life\n",
            "Enter an emotion: happy\n",
            "['finite', 'life', 'living', 'good']\n"
          ]
        },
        {
          "output_type": "stream",
          "name": "stderr",
          "text": [
            "Truncation was not explicitly activated but `max_length` is provided a specific value, please use `truncation=True` to explicitly truncate examples to max length. Defaulting to 'longest_first' truncation strategy. If you encode pairs of sequences (GLUE-style) with the tokenizer you can select this strategy more precisely by providing a specific strategy to `truncation`.\n",
            "Setting `pad_token_id` to `eos_token_id`:50256 for open-end generation.\n",
            "Truncation was not explicitly activated but `max_length` is provided a specific value, please use `truncation=True` to explicitly truncate examples to max length. Defaulting to 'longest_first' truncation strategy. If you encode pairs of sequences (GLUE-style) with the tokenizer you can select this strategy more precisely by providing a specific strategy to `truncation`.\n",
            "Setting `pad_token_id` to `eos_token_id`:50256 for open-end generation.\n",
            "Truncation was not explicitly activated but `max_length` is provided a specific value, please use `truncation=True` to explicitly truncate examples to max length. Defaulting to 'longest_first' truncation strategy. If you encode pairs of sequences (GLUE-style) with the tokenizer you can select this strategy more precisely by providing a specific strategy to `truncation`.\n",
            "Setting `pad_token_id` to `eos_token_id`:50256 for open-end generation.\n",
            "Truncation was not explicitly activated but `max_length` is provided a specific value, please use `truncation=True` to explicitly truncate examples to max length. Defaulting to 'longest_first' truncation strategy. If you encode pairs of sequences (GLUE-style) with the tokenizer you can select this strategy more precisely by providing a specific strategy to `truncation`.\n",
            "Setting `pad_token_id` to `eos_token_id`:50256 for open-end generation.\n"
          ]
        },
        {
          "output_type": "stream",
          "name": "stdout",
          "text": [
            "['finite', 'life', 'living', 'good']\n",
            "Output Story:\n",
            "Generate a story advertising life with an emotion of happy with characteristics of finite.\n",
            "\n",
            "Fiction and Video Games\n",
            "\n",
            "The Star Citizen Story in Fallout 3\n",
            "\n",
            "The \"Gears, I'm Proud Yours\", originally published by Fallout Publishing and updated by LucasArts in 2009, is a humorous parody of the \"Hobby\" title. The game uses a different set of elements as well, such as a \"Goggles\" that can be purchased for a set percentage of his (or her) health points. Their purpose is to give players something to think at, but their main purpose is to prevent player progress from starting again after a game ends.\n",
            "\n",
            "In \"The Battle-Forsaken\" in Fallout 3, the Fallout universe has a \"Heroic Battle-Forsaken\" system, where both the player and the \"victim\" of a battle are rewarded with some real life equipment.[1]\n",
            "\n",
            "In Fallout: New Vegas, this system was extended\n",
            "Generate a story advertising life with an emotion of happy with characteristics of life.\n",
            "\n",
            "Choose your style. It'll be a different story. Choose your story.\n",
            "\n",
            "We want you to feel a sense of joy and satisfaction when you read something about somebody, see others' stories, visit the place and interact with people.\n",
            "\n",
            "There are so many benefits to the journey:\n",
            "\n",
            "We can give you advice and information about how you could take steps to achieve the desired change.\n",
            "\n",
            "If you're taking it right, we'll help you achieve what you are aiming for. It makes sense to take a walk in a park and see people through a new version of your story at different points in your life. It gives a different understanding of who you are as well as making sure you can be involved with the journey of life long. And it makes things get better. Think about things that have been difficult before and what they're going to take you through. Do things that will add\n",
            "Generate a story advertising life with an emotion of happy with characteristics of living.\n",
            "\n",
            "Create an emotion to express your feelings.\n",
            "\n",
            "Show some emotion by expressing it in the way that it has been mentioned in a story you are about to promote by using any of the following techniques:\n",
            "Generate a story advertising life with an emotion of happy with characteristics of good. These are qualities that we all need. However one may be tempted to be creative or imaginative, one should embrace them and not fear them. And in this way the spirit of the character lives. That is why \"my characters are happy\" is best expressed by the character A, one who speaks out and speaks directly towards other characters to achieve unity of thought. The person who can hear his true character in A is the person who can \"open an honest conversation\" with A in A's world – not A, not B. The best character that is possible is A. And in A's world – the character that becomes able to listen to him is A. \"But what about A, the person who speaks to A's true character? His real is the 'I' in 'A, the person who communicates with A's true character'\".\n",
            "\n",
            "-Dee A is a character – one who is\n",
            "\n",
            "Output Words:\n",
            "['finite', 'life', 'living', 'good']\n"
          ]
        }
      ],
      "source": [
        "import random\n",
        "from conceptnet5.uri import split_uri\n",
        "from transformers import pipeline\n",
        "from better_profanity import profanity\n",
        "from nrclex import NRCLex\n",
        "import nltk\n",
        "nltk.download('punkt')\n",
        "\n",
        "\n",
        "# def get_related_words(word):\n",
        "#     related_words = set()\n",
        "#     for source in ['/c/en/', '/c/en/']:\n",
        "#         query = lookup('/c/en/' + word)\n",
        "#         for edge in query.edges:\n",
        "#             _, relation, label = split_uri(edge['@id'])\n",
        "#             if relation in ['RelatedTo', 'IsA', 'HasA']:\n",
        "#                 related_words.add(label.replace('_', ' '))\n",
        "#     return list(related_words)\n",
        "\n",
        "\n",
        "\n",
        "from conceptnet5.uri import join_uri, split_uri\n",
        "import requests\n",
        "\n",
        "def get_related_words(word):\n",
        "  concept_uri='/c/en/'+word\n",
        "  api_url = f'http://api.conceptnet.io{concept_uri}'\n",
        "  relations = ['relatedto','formof','isa','partof','usedfor','capableof','causes','hassubevent','hasfirstsubevent','hasprerequisite','hasproperty','synonym','antonym','distinctfrom','derivedfrom','definedas','hascontext','similarto','etymologicallyrelatedto','receivesaction']\n",
        "\n",
        "\n",
        "  # Send HTTP GET request to ConceptNet API\n",
        "  response = requests.get(api_url)\n",
        "\n",
        "  # Process the response\n",
        "  if response.status_code == 200:\n",
        "    data = response.json()\n",
        "  else:\n",
        "    print(f'Error: Failed to fetch data. Status code: {response.status_code}')\n",
        "    return 0\n",
        "\n",
        "  related_words = set()\n",
        "  for edge in data['edges']:\n",
        "            relation=edge['rel']['label']\n",
        "            if relation.lower() in relations:\n",
        "\n",
        "              related_words.add(edge['end']['label'])\n",
        "\n",
        "  print(list(related_words))\n",
        "  return list(related_words)\n",
        "\n",
        "\n",
        "\n",
        "\n",
        "\n",
        "def get_emotion_words(word, emotion):\n",
        "    # list of words to return\n",
        "    emotion_words = []\n",
        "    no_emotions = []\n",
        "\n",
        "    # check for profanity in word\n",
        "    if profanity.contains_profanity(word):\n",
        "        print('Sorry, there is no information for this word')\n",
        "        return []\n",
        "\n",
        "    # get associated words\n",
        "    usecases = get_related_words(word)\n",
        "\n",
        "    # check emotion of each word\n",
        "    for word in usecases:\n",
        "        emo_dict = NRCLex(word).affect_frequencies\n",
        "\n",
        "        # add word to emotion_words list if it has the specified emotion\n",
        "        if emotion in emo_dict.keys() and emo_dict[emotion] > 0:\n",
        "            emotion_words.append(word)\n",
        "        else:\n",
        "            no_emotions.append(word)\n",
        "\n",
        "    if len(emotion_words) == 0:\n",
        "        return no_emotions\n",
        "    else:\n",
        "        return emotion_words\n",
        "\n",
        "def generate_story_with_transformer(prompt, character, emotion):\n",
        "    # Load the pre-trained GPT model\n",
        "    generator = pipeline(\"text-generation\", model=\"gpt2\")\n",
        "\n",
        "    # Generate text based on the prompt\n",
        "    story = generator(prompt, max_length=200, num_return_sequences=1)[0]['generated_text']\n",
        "    return story\n",
        "\n",
        "def generate_story(word, emotion, character):\n",
        "    # Define a prompt using the keyword and emotion\n",
        "    prompt = f\"Generate a story advertising {word} with an emotion of {emotion} with characteristics of {character}.\"\n",
        "\n",
        "    # Generate story with the transformer\n",
        "    story = generate_story_with_transformer(prompt, character, emotion)\n",
        "    return story\n",
        "\n",
        "def get_story(word, emotion):\n",
        "    stories = []\n",
        "    words = get_emotion_words(word, emotion)\n",
        "    if len(words) > 10:\n",
        "        ten_words = random.sample(words, 10)\n",
        "        for i in ten_words:\n",
        "            stories.append(generate_story(word, emotion, i))\n",
        "    else:\n",
        "        for i in words:\n",
        "            stories.append(generate_story(word, emotion, i))\n",
        "    return stories\n",
        "\n",
        "if __name__ == '__main__':\n",
        "    word = input(\"Enter a word: \")\n",
        "    emotion = input(\"Enter an emotion: \")\n",
        "\n",
        "    output_story = get_story(word, emotion)\n",
        "    output_words = get_emotion_words(word, emotion)\n",
        "\n",
        "    print(\"Output Story:\")\n",
        "    for story in output_story:\n",
        "        print(story)\n",
        "\n",
        "    print(\"\\nOutput Words:\")\n",
        "    print(output_words)\n"
      ]
    },
    {
      "cell_type": "code",
      "source": [],
      "metadata": {
        "id": "gwYS0WykVDY2"
      },
      "execution_count": null,
      "outputs": []
    }
  ]
}